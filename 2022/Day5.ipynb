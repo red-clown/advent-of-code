{
 "cells": [
  {
   "cell_type": "markdown",
   "id": "7fe50d0c-0e17-4eed-8bdb-5b560ea2f248",
   "metadata": {},
   "source": [
    "# --- Day 5: Supply Stacks ---"
   ]
  },
  {
   "cell_type": "markdown",
   "id": "67888d66-180d-48bc-b548-cbb1fe56f9cd",
   "metadata": {},
   "source": [
    "## Part 1\n",
    "The expedition can depart as soon as the final supplies have been unloaded from the ships. Supplies are stored in stacks of marked crates, but because the needed supplies are buried under many other crates, the crates need to be rearranged.\n",
    "\n",
    "The ship has a giant cargo crane capable of moving crates between stacks. To ensure none of the crates get crushed or fall over, the crane operator will rearrange them in a series of carefully-planned steps. After the crates are rearranged, the desired crates will be at the top of each stack.\n",
    "\n",
    "The Elves don't want to interrupt the crane operator during this delicate procedure, but they forgot to ask her which crate will end up where, and they want to be ready to unload them as soon as possible so they can embark.\n",
    "\n",
    "They do, however, have a drawing of the starting stacks of crates and the rearrangement procedure (your puzzle input). For example:\n",
    "## Example\n",
    "For example, consider the following list of section assignment pairs:\n",
    "```\n",
    "    [D]    \n",
    "[N] [C]    \n",
    "[Z] [M] [P]\n",
    " 1   2   3 \n",
    "\n",
    "move 1 from 2 to 1\n",
    "move 3 from 1 to 3\n",
    "move 2 from 2 to 1\n",
    "move 1 from 1 to 2\n",
    "```\n",
    "In the second step, three crates are moved from stack 1 to stack 3. Crates are moved one at a time, so the first crate to be moved (D) ends up below the second and third crates:\n",
    "```\n",
    "        [Z]\n",
    "        [N]\n",
    "    [C] [D]\n",
    "    [M] [P]\n",
    " 1   2   3\n",
    "```\n",
    "Then, both crates are moved from stack 2 to stack 1. Again, because crates are moved one at a time, crate C ends up below crate M:\n",
    "```\n",
    "        [Z]\n",
    "        [N]\n",
    "[M]     [D]\n",
    "[C]     [P]\n",
    " 1   2   3\n",
    "```\n",
    "Finally, one crate is moved from stack 1 to stack 2:\n",
    "```\n",
    "        [Z]\n",
    "        [N]\n",
    "        [D]\n",
    "[C] [M] [P]\n",
    " 1   2   3\n",
    "```\n",
    "The Elves just need to know which crate will end up on top of each stack; in this example, the top crates are C in stack 1, M in stack 2, and Z in stack 3, so you should combine these together and give the Elves the message CMZ.\n",
    "\n",
    "## Question\n",
    "After the rearrangement procedure completes, what crate ends up on top of each stack?"
   ]
  },
  {
   "cell_type": "code",
   "execution_count": 1,
   "id": "6680380d-bd8d-44d1-ab40-40580d4673ef",
   "metadata": {},
   "outputs": [],
   "source": [
    "exemple_list = '''    [D]    \n",
    "[N] [C]    \n",
    "[Z] [M] [P]\n",
    " 1   2   3 \n",
    "\n",
    "move 1 from 2 to 1\n",
    "move 3 from 1 to 3\n",
    "move 2 from 2 to 1\n",
    "move 1 from 1 to 2'''"
   ]
  },
  {
   "cell_type": "code",
   "execution_count": 2,
   "id": "ba6be043-d041-4f69-b321-52120bc19612",
   "metadata": {},
   "outputs": [],
   "source": [
    "exemple_list = exemple_list.split('\\n')"
   ]
  },
  {
   "cell_type": "code",
   "execution_count": 13,
   "id": "deb5391d-118b-49de-9dd1-fb1364a9f144",
   "metadata": {},
   "outputs": [],
   "source": [
    "import re"
   ]
  },
  {
   "cell_type": "code",
   "execution_count": 39,
   "id": "a453c151-95d1-4d8e-9134-40e8340cbf9c",
   "metadata": {},
   "outputs": [
    {
     "name": "stdout",
     "output_type": "stream",
     "text": [
      "resolve\n",
      "{2: ['D']}\n",
      "{2: ['D'], 1: ['N']}\n",
      "{2: ['D', 'C'], 1: ['N']}\n",
      "{2: ['D', 'C'], 1: ['N', 'Z']}\n",
      "{2: ['D', 'C', 'M'], 1: ['N', 'Z']}\n",
      "{2: ['D', 'C', 'M'], 1: ['N', 'Z'], 3: ['P']}\n"
     ]
    }
   ],
   "source": [
    "def resolve_stack(stack_list):\n",
    "    stack = {}\n",
    "    print('resolve')\n",
    "    for line in stack_list:\n",
    "        y= 1\n",
    "        while -3+4*y <len(line):\n",
    "            #print(line[-3+4*y])\n",
    "            if line[-3+4*y] != ' ':\n",
    "                if y in stack.keys():\n",
    "                    stack[y].append(line[-3+4*y])\n",
    "                else:\n",
    "                    stack[y]=[line[-3+4*y]]\n",
    "                print(stack)\n",
    "            y+=1\n",
    "    return(stack)\n",
    "\n",
    "def parser(input_list):\n",
    "    stacks=[]\n",
    "    first_part = True\n",
    "    moves=[]\n",
    "    for line in input_list:\n",
    "        #print(line)\n",
    "        patt = re.compile(r'\\d+')\n",
    "        if first_part:\n",
    "            if len(line)>=2 and line[:2]==' 1':\n",
    "                first_part = False\n",
    "                stack = resolve_stack(stacks)\n",
    "            else:\n",
    "                stacks.append(line)\n",
    "        else:\n",
    "            if len(line)>=4 and line[:4]=='move':\n",
    "                x = [int(y) for y in patt.findall(line)]\n",
    "                #print([y for y in x])\n",
    "                for z in range(x[0]):\n",
    "                    stack[x[2]].insert(0, stack[x[1]].pop(0))\n",
    "                #print(f'The stack is now: {stack}')\n",
    "    return(stack)\n",
    "                \n",
    "\n",
    "#print(f'Total overlap: {task_checker(exemple_list)}')\n",
    "final_stack = parser(exemple_list)"
   ]
  },
  {
   "cell_type": "code",
   "execution_count": 40,
   "id": "00b7b24c-8f67-4c26-a0c2-f265b197ff48",
   "metadata": {},
   "outputs": [
    {
     "data": {
      "text/plain": [
       "'CMZ'"
      ]
     },
     "execution_count": 40,
     "metadata": {},
     "output_type": "execute_result"
    }
   ],
   "source": [
    "''.join(final_stack[x][0] for x in sorted(final_stack.keys()))"
   ]
  },
  {
   "cell_type": "code",
   "execution_count": 42,
   "id": "5620bdb7-5302-4344-8f3b-0a6c78fc67ea",
   "metadata": {},
   "outputs": [
    {
     "name": "stdout",
     "output_type": "stream",
     "text": [
      "resolve\n",
      "{1: ['H']}\n",
      "{1: ['H'], 6: ['Z']}\n",
      "{1: ['H'], 6: ['Z'], 9: ['J']}\n",
      "{1: ['H', 'L'], 6: ['Z'], 9: ['J']}\n",
      "{1: ['H', 'L'], 6: ['Z'], 9: ['J'], 3: ['W']}\n",
      "{1: ['H', 'L'], 6: ['Z'], 9: ['J'], 3: ['W'], 4: ['B']}\n",
      "{1: ['H', 'L'], 6: ['Z', 'G'], 9: ['J'], 3: ['W'], 4: ['B']}\n",
      "{1: ['H', 'L'], 6: ['Z', 'G'], 9: ['J', 'R'], 3: ['W'], 4: ['B']}\n",
      "{1: ['H', 'L', 'R'], 6: ['Z', 'G'], 9: ['J', 'R'], 3: ['W'], 4: ['B']}\n",
      "{1: ['H', 'L', 'R'], 6: ['Z', 'G'], 9: ['J', 'R'], 3: ['W', 'G'], 4: ['B']}\n",
      "{1: ['H', 'L', 'R'], 6: ['Z', 'G'], 9: ['J', 'R'], 3: ['W', 'G'], 4: ['B', 'S']}\n",
      "{1: ['H', 'L', 'R'], 6: ['Z', 'G', 'J'], 9: ['J', 'R'], 3: ['W', 'G'], 4: ['B', 'S']}\n",
      "{1: ['H', 'L', 'R'], 6: ['Z', 'G', 'J'], 9: ['J', 'R'], 3: ['W', 'G'], 4: ['B', 'S'], 7: ['H']}\n",
      "{1: ['H', 'L', 'R'], 6: ['Z', 'G', 'J'], 9: ['J', 'R', 'Q'], 3: ['W', 'G'], 4: ['B', 'S'], 7: ['H']}\n",
      "{1: ['H', 'L', 'R', 'F'], 6: ['Z', 'G', 'J'], 9: ['J', 'R', 'Q'], 3: ['W', 'G'], 4: ['B', 'S'], 7: ['H']}\n",
      "{1: ['H', 'L', 'R', 'F'], 6: ['Z', 'G', 'J'], 9: ['J', 'R', 'Q'], 3: ['W', 'G', 'N'], 4: ['B', 'S'], 7: ['H']}\n",
      "{1: ['H', 'L', 'R', 'F'], 6: ['Z', 'G', 'J'], 9: ['J', 'R', 'Q'], 3: ['W', 'G', 'N'], 4: ['B', 'S', 'T'], 7: ['H']}\n",
      "{1: ['H', 'L', 'R', 'F'], 6: ['Z', 'G', 'J'], 9: ['J', 'R', 'Q'], 3: ['W', 'G', 'N'], 4: ['B', 'S', 'T'], 7: ['H'], 5: ['J']}\n",
      "{1: ['H', 'L', 'R', 'F'], 6: ['Z', 'G', 'J', 'P'], 9: ['J', 'R', 'Q'], 3: ['W', 'G', 'N'], 4: ['B', 'S', 'T'], 7: ['H'], 5: ['J']}\n",
      "{1: ['H', 'L', 'R', 'F'], 6: ['Z', 'G', 'J', 'P'], 9: ['J', 'R', 'Q'], 3: ['W', 'G', 'N'], 4: ['B', 'S', 'T'], 7: ['H', 'R'], 5: ['J']}\n",
      "{1: ['H', 'L', 'R', 'F'], 6: ['Z', 'G', 'J', 'P'], 9: ['J', 'R', 'Q', 'F'], 3: ['W', 'G', 'N'], 4: ['B', 'S', 'T'], 7: ['H', 'R'], 5: ['J']}\n",
      "{1: ['H', 'L', 'R', 'F', 'B'], 6: ['Z', 'G', 'J', 'P'], 9: ['J', 'R', 'Q', 'F'], 3: ['W', 'G', 'N'], 4: ['B', 'S', 'T'], 7: ['H', 'R'], 5: ['J']}\n",
      "{1: ['H', 'L', 'R', 'F', 'B'], 6: ['Z', 'G', 'J', 'P'], 9: ['J', 'R', 'Q', 'F'], 3: ['W', 'G', 'N', 'C'], 4: ['B', 'S', 'T'], 7: ['H', 'R'], 5: ['J']}\n",
      "{1: ['H', 'L', 'R', 'F', 'B'], 6: ['Z', 'G', 'J', 'P'], 9: ['J', 'R', 'Q', 'F'], 3: ['W', 'G', 'N', 'C'], 4: ['B', 'S', 'T', 'M'], 7: ['H', 'R'], 5: ['J']}\n",
      "{1: ['H', 'L', 'R', 'F', 'B'], 6: ['Z', 'G', 'J', 'P'], 9: ['J', 'R', 'Q', 'F'], 3: ['W', 'G', 'N', 'C'], 4: ['B', 'S', 'T', 'M'], 7: ['H', 'R'], 5: ['J', 'R']}\n",
      "{1: ['H', 'L', 'R', 'F', 'B'], 6: ['Z', 'G', 'J', 'P', 'Q'], 9: ['J', 'R', 'Q', 'F'], 3: ['W', 'G', 'N', 'C'], 4: ['B', 'S', 'T', 'M'], 7: ['H', 'R'], 5: ['J', 'R']}\n",
      "{1: ['H', 'L', 'R', 'F', 'B'], 6: ['Z', 'G', 'J', 'P', 'Q'], 9: ['J', 'R', 'Q', 'F'], 3: ['W', 'G', 'N', 'C'], 4: ['B', 'S', 'T', 'M'], 7: ['H', 'R', 'F'], 5: ['J', 'R']}\n",
      "{1: ['H', 'L', 'R', 'F', 'B'], 6: ['Z', 'G', 'J', 'P', 'Q'], 9: ['J', 'R', 'Q', 'F'], 3: ['W', 'G', 'N', 'C'], 4: ['B', 'S', 'T', 'M'], 7: ['H', 'R', 'F'], 5: ['J', 'R'], 8: ['G']}\n",
      "{1: ['H', 'L', 'R', 'F', 'B'], 6: ['Z', 'G', 'J', 'P', 'Q'], 9: ['J', 'R', 'Q', 'F', 'P'], 3: ['W', 'G', 'N', 'C'], 4: ['B', 'S', 'T', 'M'], 7: ['H', 'R', 'F'], 5: ['J', 'R'], 8: ['G']}\n",
      "{1: ['H', 'L', 'R', 'F', 'B', 'C'], 6: ['Z', 'G', 'J', 'P', 'Q'], 9: ['J', 'R', 'Q', 'F', 'P'], 3: ['W', 'G', 'N', 'C'], 4: ['B', 'S', 'T', 'M'], 7: ['H', 'R', 'F'], 5: ['J', 'R'], 8: ['G']}\n",
      "{1: ['H', 'L', 'R', 'F', 'B', 'C'], 6: ['Z', 'G', 'J', 'P', 'Q'], 9: ['J', 'R', 'Q', 'F', 'P'], 3: ['W', 'G', 'N', 'C'], 4: ['B', 'S', 'T', 'M'], 7: ['H', 'R', 'F'], 5: ['J', 'R'], 8: ['G'], 2: ['D']}\n",
      "{1: ['H', 'L', 'R', 'F', 'B', 'C'], 6: ['Z', 'G', 'J', 'P', 'Q'], 9: ['J', 'R', 'Q', 'F', 'P'], 3: ['W', 'G', 'N', 'C', 'F'], 4: ['B', 'S', 'T', 'M'], 7: ['H', 'R', 'F'], 5: ['J', 'R'], 8: ['G'], 2: ['D']}\n",
      "{1: ['H', 'L', 'R', 'F', 'B', 'C'], 6: ['Z', 'G', 'J', 'P', 'Q'], 9: ['J', 'R', 'Q', 'F', 'P'], 3: ['W', 'G', 'N', 'C', 'F'], 4: ['B', 'S', 'T', 'M', 'D'], 7: ['H', 'R', 'F'], 5: ['J', 'R'], 8: ['G'], 2: ['D']}\n",
      "{1: ['H', 'L', 'R', 'F', 'B', 'C'], 6: ['Z', 'G', 'J', 'P', 'Q'], 9: ['J', 'R', 'Q', 'F', 'P'], 3: ['W', 'G', 'N', 'C', 'F'], 4: ['B', 'S', 'T', 'M', 'D'], 7: ['H', 'R', 'F'], 5: ['J', 'R', 'D'], 8: ['G'], 2: ['D']}\n",
      "{1: ['H', 'L', 'R', 'F', 'B', 'C'], 6: ['Z', 'G', 'J', 'P', 'Q', 'D'], 9: ['J', 'R', 'Q', 'F', 'P'], 3: ['W', 'G', 'N', 'C', 'F'], 4: ['B', 'S', 'T', 'M', 'D'], 7: ['H', 'R', 'F'], 5: ['J', 'R', 'D'], 8: ['G'], 2: ['D']}\n",
      "{1: ['H', 'L', 'R', 'F', 'B', 'C'], 6: ['Z', 'G', 'J', 'P', 'Q', 'D'], 9: ['J', 'R', 'Q', 'F', 'P'], 3: ['W', 'G', 'N', 'C', 'F'], 4: ['B', 'S', 'T', 'M', 'D'], 7: ['H', 'R', 'F', 'T'], 5: ['J', 'R', 'D'], 8: ['G'], 2: ['D']}\n",
      "{1: ['H', 'L', 'R', 'F', 'B', 'C'], 6: ['Z', 'G', 'J', 'P', 'Q', 'D'], 9: ['J', 'R', 'Q', 'F', 'P'], 3: ['W', 'G', 'N', 'C', 'F'], 4: ['B', 'S', 'T', 'M', 'D'], 7: ['H', 'R', 'F', 'T'], 5: ['J', 'R', 'D'], 8: ['G', 'M'], 2: ['D']}\n",
      "{1: ['H', 'L', 'R', 'F', 'B', 'C'], 6: ['Z', 'G', 'J', 'P', 'Q', 'D'], 9: ['J', 'R', 'Q', 'F', 'P', 'G'], 3: ['W', 'G', 'N', 'C', 'F'], 4: ['B', 'S', 'T', 'M', 'D'], 7: ['H', 'R', 'F', 'T'], 5: ['J', 'R', 'D'], 8: ['G', 'M'], 2: ['D']}\n",
      "{1: ['H', 'L', 'R', 'F', 'B', 'C', 'J'], 6: ['Z', 'G', 'J', 'P', 'Q', 'D'], 9: ['J', 'R', 'Q', 'F', 'P', 'G'], 3: ['W', 'G', 'N', 'C', 'F'], 4: ['B', 'S', 'T', 'M', 'D'], 7: ['H', 'R', 'F', 'T'], 5: ['J', 'R', 'D'], 8: ['G', 'M'], 2: ['D']}\n",
      "{1: ['H', 'L', 'R', 'F', 'B', 'C', 'J'], 6: ['Z', 'G', 'J', 'P', 'Q', 'D'], 9: ['J', 'R', 'Q', 'F', 'P', 'G'], 3: ['W', 'G', 'N', 'C', 'F'], 4: ['B', 'S', 'T', 'M', 'D'], 7: ['H', 'R', 'F', 'T'], 5: ['J', 'R', 'D'], 8: ['G', 'M'], 2: ['D', 'C']}\n",
      "{1: ['H', 'L', 'R', 'F', 'B', 'C', 'J'], 6: ['Z', 'G', 'J', 'P', 'Q', 'D'], 9: ['J', 'R', 'Q', 'F', 'P', 'G'], 3: ['W', 'G', 'N', 'C', 'F', 'J'], 4: ['B', 'S', 'T', 'M', 'D'], 7: ['H', 'R', 'F', 'T'], 5: ['J', 'R', 'D'], 8: ['G', 'M'], 2: ['D', 'C']}\n",
      "{1: ['H', 'L', 'R', 'F', 'B', 'C', 'J'], 6: ['Z', 'G', 'J', 'P', 'Q', 'D'], 9: ['J', 'R', 'Q', 'F', 'P', 'G'], 3: ['W', 'G', 'N', 'C', 'F', 'J'], 4: ['B', 'S', 'T', 'M', 'D', 'J'], 7: ['H', 'R', 'F', 'T'], 5: ['J', 'R', 'D'], 8: ['G', 'M'], 2: ['D', 'C']}\n",
      "{1: ['H', 'L', 'R', 'F', 'B', 'C', 'J'], 6: ['Z', 'G', 'J', 'P', 'Q', 'D'], 9: ['J', 'R', 'Q', 'F', 'P', 'G'], 3: ['W', 'G', 'N', 'C', 'F', 'J'], 4: ['B', 'S', 'T', 'M', 'D', 'J'], 7: ['H', 'R', 'F', 'T'], 5: ['J', 'R', 'D', 'C'], 8: ['G', 'M'], 2: ['D', 'C']}\n",
      "{1: ['H', 'L', 'R', 'F', 'B', 'C', 'J'], 6: ['Z', 'G', 'J', 'P', 'Q', 'D', 'L'], 9: ['J', 'R', 'Q', 'F', 'P', 'G'], 3: ['W', 'G', 'N', 'C', 'F', 'J'], 4: ['B', 'S', 'T', 'M', 'D', 'J'], 7: ['H', 'R', 'F', 'T'], 5: ['J', 'R', 'D', 'C'], 8: ['G', 'M'], 2: ['D', 'C']}\n",
      "{1: ['H', 'L', 'R', 'F', 'B', 'C', 'J'], 6: ['Z', 'G', 'J', 'P', 'Q', 'D', 'L'], 9: ['J', 'R', 'Q', 'F', 'P', 'G'], 3: ['W', 'G', 'N', 'C', 'F', 'J'], 4: ['B', 'S', 'T', 'M', 'D', 'J'], 7: ['H', 'R', 'F', 'T', 'Z'], 5: ['J', 'R', 'D', 'C'], 8: ['G', 'M'], 2: ['D', 'C']}\n",
      "{1: ['H', 'L', 'R', 'F', 'B', 'C', 'J'], 6: ['Z', 'G', 'J', 'P', 'Q', 'D', 'L'], 9: ['J', 'R', 'Q', 'F', 'P', 'G'], 3: ['W', 'G', 'N', 'C', 'F', 'J'], 4: ['B', 'S', 'T', 'M', 'D', 'J'], 7: ['H', 'R', 'F', 'T', 'Z'], 5: ['J', 'R', 'D', 'C'], 8: ['G', 'M', 'V'], 2: ['D', 'C']}\n",
      "{1: ['H', 'L', 'R', 'F', 'B', 'C', 'J'], 6: ['Z', 'G', 'J', 'P', 'Q', 'D', 'L'], 9: ['J', 'R', 'Q', 'F', 'P', 'G', 'B'], 3: ['W', 'G', 'N', 'C', 'F', 'J'], 4: ['B', 'S', 'T', 'M', 'D', 'J'], 7: ['H', 'R', 'F', 'T', 'Z'], 5: ['J', 'R', 'D', 'C'], 8: ['G', 'M', 'V'], 2: ['D', 'C']}\n",
      "{1: ['H', 'L', 'R', 'F', 'B', 'C', 'J', 'M'], 6: ['Z', 'G', 'J', 'P', 'Q', 'D', 'L'], 9: ['J', 'R', 'Q', 'F', 'P', 'G', 'B'], 3: ['W', 'G', 'N', 'C', 'F', 'J'], 4: ['B', 'S', 'T', 'M', 'D', 'J'], 7: ['H', 'R', 'F', 'T', 'Z'], 5: ['J', 'R', 'D', 'C'], 8: ['G', 'M', 'V'], 2: ['D', 'C']}\n",
      "{1: ['H', 'L', 'R', 'F', 'B', 'C', 'J', 'M'], 6: ['Z', 'G', 'J', 'P', 'Q', 'D', 'L'], 9: ['J', 'R', 'Q', 'F', 'P', 'G', 'B'], 3: ['W', 'G', 'N', 'C', 'F', 'J'], 4: ['B', 'S', 'T', 'M', 'D', 'J'], 7: ['H', 'R', 'F', 'T', 'Z'], 5: ['J', 'R', 'D', 'C'], 8: ['G', 'M', 'V'], 2: ['D', 'C', 'Z']}\n",
      "{1: ['H', 'L', 'R', 'F', 'B', 'C', 'J', 'M'], 6: ['Z', 'G', 'J', 'P', 'Q', 'D', 'L'], 9: ['J', 'R', 'Q', 'F', 'P', 'G', 'B'], 3: ['W', 'G', 'N', 'C', 'F', 'J', 'H'], 4: ['B', 'S', 'T', 'M', 'D', 'J'], 7: ['H', 'R', 'F', 'T', 'Z'], 5: ['J', 'R', 'D', 'C'], 8: ['G', 'M', 'V'], 2: ['D', 'C', 'Z']}\n",
      "{1: ['H', 'L', 'R', 'F', 'B', 'C', 'J', 'M'], 6: ['Z', 'G', 'J', 'P', 'Q', 'D', 'L'], 9: ['J', 'R', 'Q', 'F', 'P', 'G', 'B'], 3: ['W', 'G', 'N', 'C', 'F', 'J', 'H'], 4: ['B', 'S', 'T', 'M', 'D', 'J', 'P'], 7: ['H', 'R', 'F', 'T', 'Z'], 5: ['J', 'R', 'D', 'C'], 8: ['G', 'M', 'V'], 2: ['D', 'C', 'Z']}\n",
      "{1: ['H', 'L', 'R', 'F', 'B', 'C', 'J', 'M'], 6: ['Z', 'G', 'J', 'P', 'Q', 'D', 'L'], 9: ['J', 'R', 'Q', 'F', 'P', 'G', 'B'], 3: ['W', 'G', 'N', 'C', 'F', 'J', 'H'], 4: ['B', 'S', 'T', 'M', 'D', 'J', 'P'], 7: ['H', 'R', 'F', 'T', 'Z'], 5: ['J', 'R', 'D', 'C', 'N'], 8: ['G', 'M', 'V'], 2: ['D', 'C', 'Z']}\n",
      "{1: ['H', 'L', 'R', 'F', 'B', 'C', 'J', 'M'], 6: ['Z', 'G', 'J', 'P', 'Q', 'D', 'L', 'W'], 9: ['J', 'R', 'Q', 'F', 'P', 'G', 'B'], 3: ['W', 'G', 'N', 'C', 'F', 'J', 'H'], 4: ['B', 'S', 'T', 'M', 'D', 'J', 'P'], 7: ['H', 'R', 'F', 'T', 'Z'], 5: ['J', 'R', 'D', 'C', 'N'], 8: ['G', 'M', 'V'], 2: ['D', 'C', 'Z']}\n",
      "{1: ['H', 'L', 'R', 'F', 'B', 'C', 'J', 'M'], 6: ['Z', 'G', 'J', 'P', 'Q', 'D', 'L', 'W'], 9: ['J', 'R', 'Q', 'F', 'P', 'G', 'B'], 3: ['W', 'G', 'N', 'C', 'F', 'J', 'H'], 4: ['B', 'S', 'T', 'M', 'D', 'J', 'P'], 7: ['H', 'R', 'F', 'T', 'Z', 'P'], 5: ['J', 'R', 'D', 'C', 'N'], 8: ['G', 'M', 'V'], 2: ['D', 'C', 'Z']}\n",
      "{1: ['H', 'L', 'R', 'F', 'B', 'C', 'J', 'M'], 6: ['Z', 'G', 'J', 'P', 'Q', 'D', 'L', 'W'], 9: ['J', 'R', 'Q', 'F', 'P', 'G', 'B'], 3: ['W', 'G', 'N', 'C', 'F', 'J', 'H'], 4: ['B', 'S', 'T', 'M', 'D', 'J', 'P'], 7: ['H', 'R', 'F', 'T', 'Z', 'P'], 5: ['J', 'R', 'D', 'C', 'N'], 8: ['G', 'M', 'V', 'L'], 2: ['D', 'C', 'Z']}\n",
      "{1: ['H', 'L', 'R', 'F', 'B', 'C', 'J', 'M'], 6: ['Z', 'G', 'J', 'P', 'Q', 'D', 'L', 'W'], 9: ['J', 'R', 'Q', 'F', 'P', 'G', 'B', 'C'], 3: ['W', 'G', 'N', 'C', 'F', 'J', 'H'], 4: ['B', 'S', 'T', 'M', 'D', 'J', 'P'], 7: ['H', 'R', 'F', 'T', 'Z', 'P'], 5: ['J', 'R', 'D', 'C', 'N'], 8: ['G', 'M', 'V', 'L'], 2: ['D', 'C', 'Z']}\n",
      "Top crates: TQRFCBSJJ\n"
     ]
    }
   ],
   "source": [
    "with open('input_day5.txt') as f:\n",
    "    day5_list = [sub.replace(\"\\n\", \"\") for sub in f.readlines()]\n",
    "\n",
    "#part1_list = lines.split('\\n')\n",
    "final_stack = parser(day5_list)\n",
    "print(f'Top crates: '+ ''.join(final_stack[x][0] for x in sorted(final_stack.keys())))"
   ]
  },
  {
   "cell_type": "markdown",
   "id": "431ca112-5d54-4b6e-995b-aa7354b47afe",
   "metadata": {},
   "source": [
    "## --- Part Two ---\n",
    "\n",
    "As you watch the crane operator expertly rearrange the crates, you notice the process isn't following your prediction.\n",
    "\n",
    "Some mud was covering the writing on the side of the crane, and you quickly wipe it away. The crane isn't a CrateMover 9000 - it's a CrateMover 9001.\n",
    "\n",
    "The CrateMover 9001 is notable for many new and exciting features: air conditioning, leather seats, an extra cup holder, and the ability to pick up and move multiple crates at once.\n",
    "\n",
    "Again considering the example above, the crates begin in the same configuration:\n",
    "```\n",
    "    [D]    \n",
    "[N] [C]    \n",
    "[Z] [M] [P]\n",
    " 1   2   3 \n",
    "```\n",
    "Moving a single crate from stack 2 to stack 1 behaves the same as before:\n",
    "```\n",
    "[D]        \n",
    "[N] [C]    \n",
    "[Z] [M] [P]\n",
    " 1   2   3 \n",
    "```\n",
    "However, the action of moving three crates from stack 1 to stack 3 means that those three moved crates stay in the same order, resulting in this new configuration:\n",
    "```\n",
    "        [D]\n",
    "        [N]\n",
    "    [C] [Z]\n",
    "    [M] [P]\n",
    " 1   2   3\n",
    "```\n",
    "Next, as both crates are moved from stack 2 to stack 1, they retain their order as well:\n",
    "```\n",
    "        [D]\n",
    "        [N]\n",
    "[C]     [Z]\n",
    "[M]     [P]\n",
    " 1   2   3\n",
    "```\n",
    "Finally, a single crate is still moved from stack 1 to stack 2, but now it's crate C that gets moved:\n",
    "```\n",
    "        [D]\n",
    "        [N]\n",
    "        [Z]\n",
    "[M] [C] [P]\n",
    " 1   2   3\n",
    "```\n",
    "In this example, the CrateMover 9001 has put the crates in a totally different order: MCD.\n",
    "\n",
    "Before the rearrangement process finishes, update your simulation so that the Elves know where they should stand to be ready to unload the final supplies. After the rearrangement procedure completes, what crate ends up on top of each stack?"
   ]
  },
  {
   "cell_type": "code",
   "execution_count": 66,
   "id": "c3fa1c8c-10dc-4519-967a-cbdd7c137df8",
   "metadata": {},
   "outputs": [],
   "source": [
    "def parser2(input_list):\n",
    "    stacks=[]\n",
    "    first_part = True\n",
    "    moves=[]\n",
    "    for line in input_list:\n",
    "        #print(line)\n",
    "        patt = re.compile(r'\\d+')\n",
    "        if first_part:\n",
    "            if len(line)>=2 and line[:2]==' 1':\n",
    "                first_part = False\n",
    "                stack = resolve_stack(stacks)\n",
    "            else:\n",
    "                stacks.append(line)\n",
    "        else:\n",
    "            if len(line)>=4 and line[:4]=='move':\n",
    "                x = [int(y) for y in patt.findall(line)]\n",
    "                #print(f'Move {x[0]} crates from stack {x[1]} to stack {x[2]}.')\n",
    "                temp=stack[x[2]]\n",
    "                stack[x[2]]=stack[x[1]][0:x[0]]\n",
    "                stack[x[2]].extend(temp)\n",
    "                del stack[x[1]][:x[0]]\n",
    "                #print(f'The stack is now: {stack}')\n",
    "    return(stack)"
   ]
  },
  {
   "cell_type": "code",
   "execution_count": 67,
   "id": "0a1cd56c-4e5e-47d0-9915-2ab8cb9e7059",
   "metadata": {},
   "outputs": [
    {
     "name": "stdout",
     "output_type": "stream",
     "text": [
      "resolve\n",
      "{2: ['D']}\n",
      "{2: ['D'], 1: ['N']}\n",
      "{2: ['D', 'C'], 1: ['N']}\n",
      "{2: ['D', 'C'], 1: ['N', 'Z']}\n",
      "{2: ['D', 'C', 'M'], 1: ['N', 'Z']}\n",
      "{2: ['D', 'C', 'M'], 1: ['N', 'Z'], 3: ['P']}\n"
     ]
    },
    {
     "data": {
      "text/plain": [
       "'MCD'"
      ]
     },
     "execution_count": 67,
     "metadata": {},
     "output_type": "execute_result"
    }
   ],
   "source": [
    "final_stack2 = parser2(exemple_list)\n",
    "''.join(final_stack2[x][0] for x in sorted(final_stack2.keys()))"
   ]
  },
  {
   "cell_type": "code",
   "execution_count": 68,
   "id": "bac2fc93-e538-4dd6-b96d-50d7c298136d",
   "metadata": {},
   "outputs": [
    {
     "name": "stdout",
     "output_type": "stream",
     "text": [
      "resolve\n",
      "{1: ['H']}\n",
      "{1: ['H'], 6: ['Z']}\n",
      "{1: ['H'], 6: ['Z'], 9: ['J']}\n",
      "{1: ['H', 'L'], 6: ['Z'], 9: ['J']}\n",
      "{1: ['H', 'L'], 6: ['Z'], 9: ['J'], 3: ['W']}\n",
      "{1: ['H', 'L'], 6: ['Z'], 9: ['J'], 3: ['W'], 4: ['B']}\n",
      "{1: ['H', 'L'], 6: ['Z', 'G'], 9: ['J'], 3: ['W'], 4: ['B']}\n",
      "{1: ['H', 'L'], 6: ['Z', 'G'], 9: ['J', 'R'], 3: ['W'], 4: ['B']}\n",
      "{1: ['H', 'L', 'R'], 6: ['Z', 'G'], 9: ['J', 'R'], 3: ['W'], 4: ['B']}\n",
      "{1: ['H', 'L', 'R'], 6: ['Z', 'G'], 9: ['J', 'R'], 3: ['W', 'G'], 4: ['B']}\n",
      "{1: ['H', 'L', 'R'], 6: ['Z', 'G'], 9: ['J', 'R'], 3: ['W', 'G'], 4: ['B', 'S']}\n",
      "{1: ['H', 'L', 'R'], 6: ['Z', 'G', 'J'], 9: ['J', 'R'], 3: ['W', 'G'], 4: ['B', 'S']}\n",
      "{1: ['H', 'L', 'R'], 6: ['Z', 'G', 'J'], 9: ['J', 'R'], 3: ['W', 'G'], 4: ['B', 'S'], 7: ['H']}\n",
      "{1: ['H', 'L', 'R'], 6: ['Z', 'G', 'J'], 9: ['J', 'R', 'Q'], 3: ['W', 'G'], 4: ['B', 'S'], 7: ['H']}\n",
      "{1: ['H', 'L', 'R', 'F'], 6: ['Z', 'G', 'J'], 9: ['J', 'R', 'Q'], 3: ['W', 'G'], 4: ['B', 'S'], 7: ['H']}\n",
      "{1: ['H', 'L', 'R', 'F'], 6: ['Z', 'G', 'J'], 9: ['J', 'R', 'Q'], 3: ['W', 'G', 'N'], 4: ['B', 'S'], 7: ['H']}\n",
      "{1: ['H', 'L', 'R', 'F'], 6: ['Z', 'G', 'J'], 9: ['J', 'R', 'Q'], 3: ['W', 'G', 'N'], 4: ['B', 'S', 'T'], 7: ['H']}\n",
      "{1: ['H', 'L', 'R', 'F'], 6: ['Z', 'G', 'J'], 9: ['J', 'R', 'Q'], 3: ['W', 'G', 'N'], 4: ['B', 'S', 'T'], 7: ['H'], 5: ['J']}\n",
      "{1: ['H', 'L', 'R', 'F'], 6: ['Z', 'G', 'J', 'P'], 9: ['J', 'R', 'Q'], 3: ['W', 'G', 'N'], 4: ['B', 'S', 'T'], 7: ['H'], 5: ['J']}\n",
      "{1: ['H', 'L', 'R', 'F'], 6: ['Z', 'G', 'J', 'P'], 9: ['J', 'R', 'Q'], 3: ['W', 'G', 'N'], 4: ['B', 'S', 'T'], 7: ['H', 'R'], 5: ['J']}\n",
      "{1: ['H', 'L', 'R', 'F'], 6: ['Z', 'G', 'J', 'P'], 9: ['J', 'R', 'Q', 'F'], 3: ['W', 'G', 'N'], 4: ['B', 'S', 'T'], 7: ['H', 'R'], 5: ['J']}\n",
      "{1: ['H', 'L', 'R', 'F', 'B'], 6: ['Z', 'G', 'J', 'P'], 9: ['J', 'R', 'Q', 'F'], 3: ['W', 'G', 'N'], 4: ['B', 'S', 'T'], 7: ['H', 'R'], 5: ['J']}\n",
      "{1: ['H', 'L', 'R', 'F', 'B'], 6: ['Z', 'G', 'J', 'P'], 9: ['J', 'R', 'Q', 'F'], 3: ['W', 'G', 'N', 'C'], 4: ['B', 'S', 'T'], 7: ['H', 'R'], 5: ['J']}\n",
      "{1: ['H', 'L', 'R', 'F', 'B'], 6: ['Z', 'G', 'J', 'P'], 9: ['J', 'R', 'Q', 'F'], 3: ['W', 'G', 'N', 'C'], 4: ['B', 'S', 'T', 'M'], 7: ['H', 'R'], 5: ['J']}\n",
      "{1: ['H', 'L', 'R', 'F', 'B'], 6: ['Z', 'G', 'J', 'P'], 9: ['J', 'R', 'Q', 'F'], 3: ['W', 'G', 'N', 'C'], 4: ['B', 'S', 'T', 'M'], 7: ['H', 'R'], 5: ['J', 'R']}\n",
      "{1: ['H', 'L', 'R', 'F', 'B'], 6: ['Z', 'G', 'J', 'P', 'Q'], 9: ['J', 'R', 'Q', 'F'], 3: ['W', 'G', 'N', 'C'], 4: ['B', 'S', 'T', 'M'], 7: ['H', 'R'], 5: ['J', 'R']}\n",
      "{1: ['H', 'L', 'R', 'F', 'B'], 6: ['Z', 'G', 'J', 'P', 'Q'], 9: ['J', 'R', 'Q', 'F'], 3: ['W', 'G', 'N', 'C'], 4: ['B', 'S', 'T', 'M'], 7: ['H', 'R', 'F'], 5: ['J', 'R']}\n",
      "{1: ['H', 'L', 'R', 'F', 'B'], 6: ['Z', 'G', 'J', 'P', 'Q'], 9: ['J', 'R', 'Q', 'F'], 3: ['W', 'G', 'N', 'C'], 4: ['B', 'S', 'T', 'M'], 7: ['H', 'R', 'F'], 5: ['J', 'R'], 8: ['G']}\n",
      "{1: ['H', 'L', 'R', 'F', 'B'], 6: ['Z', 'G', 'J', 'P', 'Q'], 9: ['J', 'R', 'Q', 'F', 'P'], 3: ['W', 'G', 'N', 'C'], 4: ['B', 'S', 'T', 'M'], 7: ['H', 'R', 'F'], 5: ['J', 'R'], 8: ['G']}\n",
      "{1: ['H', 'L', 'R', 'F', 'B', 'C'], 6: ['Z', 'G', 'J', 'P', 'Q'], 9: ['J', 'R', 'Q', 'F', 'P'], 3: ['W', 'G', 'N', 'C'], 4: ['B', 'S', 'T', 'M'], 7: ['H', 'R', 'F'], 5: ['J', 'R'], 8: ['G']}\n",
      "{1: ['H', 'L', 'R', 'F', 'B', 'C'], 6: ['Z', 'G', 'J', 'P', 'Q'], 9: ['J', 'R', 'Q', 'F', 'P'], 3: ['W', 'G', 'N', 'C'], 4: ['B', 'S', 'T', 'M'], 7: ['H', 'R', 'F'], 5: ['J', 'R'], 8: ['G'], 2: ['D']}\n",
      "{1: ['H', 'L', 'R', 'F', 'B', 'C'], 6: ['Z', 'G', 'J', 'P', 'Q'], 9: ['J', 'R', 'Q', 'F', 'P'], 3: ['W', 'G', 'N', 'C', 'F'], 4: ['B', 'S', 'T', 'M'], 7: ['H', 'R', 'F'], 5: ['J', 'R'], 8: ['G'], 2: ['D']}\n",
      "{1: ['H', 'L', 'R', 'F', 'B', 'C'], 6: ['Z', 'G', 'J', 'P', 'Q'], 9: ['J', 'R', 'Q', 'F', 'P'], 3: ['W', 'G', 'N', 'C', 'F'], 4: ['B', 'S', 'T', 'M', 'D'], 7: ['H', 'R', 'F'], 5: ['J', 'R'], 8: ['G'], 2: ['D']}\n",
      "{1: ['H', 'L', 'R', 'F', 'B', 'C'], 6: ['Z', 'G', 'J', 'P', 'Q'], 9: ['J', 'R', 'Q', 'F', 'P'], 3: ['W', 'G', 'N', 'C', 'F'], 4: ['B', 'S', 'T', 'M', 'D'], 7: ['H', 'R', 'F'], 5: ['J', 'R', 'D'], 8: ['G'], 2: ['D']}\n",
      "{1: ['H', 'L', 'R', 'F', 'B', 'C'], 6: ['Z', 'G', 'J', 'P', 'Q', 'D'], 9: ['J', 'R', 'Q', 'F', 'P'], 3: ['W', 'G', 'N', 'C', 'F'], 4: ['B', 'S', 'T', 'M', 'D'], 7: ['H', 'R', 'F'], 5: ['J', 'R', 'D'], 8: ['G'], 2: ['D']}\n",
      "{1: ['H', 'L', 'R', 'F', 'B', 'C'], 6: ['Z', 'G', 'J', 'P', 'Q', 'D'], 9: ['J', 'R', 'Q', 'F', 'P'], 3: ['W', 'G', 'N', 'C', 'F'], 4: ['B', 'S', 'T', 'M', 'D'], 7: ['H', 'R', 'F', 'T'], 5: ['J', 'R', 'D'], 8: ['G'], 2: ['D']}\n",
      "{1: ['H', 'L', 'R', 'F', 'B', 'C'], 6: ['Z', 'G', 'J', 'P', 'Q', 'D'], 9: ['J', 'R', 'Q', 'F', 'P'], 3: ['W', 'G', 'N', 'C', 'F'], 4: ['B', 'S', 'T', 'M', 'D'], 7: ['H', 'R', 'F', 'T'], 5: ['J', 'R', 'D'], 8: ['G', 'M'], 2: ['D']}\n",
      "{1: ['H', 'L', 'R', 'F', 'B', 'C'], 6: ['Z', 'G', 'J', 'P', 'Q', 'D'], 9: ['J', 'R', 'Q', 'F', 'P', 'G'], 3: ['W', 'G', 'N', 'C', 'F'], 4: ['B', 'S', 'T', 'M', 'D'], 7: ['H', 'R', 'F', 'T'], 5: ['J', 'R', 'D'], 8: ['G', 'M'], 2: ['D']}\n",
      "{1: ['H', 'L', 'R', 'F', 'B', 'C', 'J'], 6: ['Z', 'G', 'J', 'P', 'Q', 'D'], 9: ['J', 'R', 'Q', 'F', 'P', 'G'], 3: ['W', 'G', 'N', 'C', 'F'], 4: ['B', 'S', 'T', 'M', 'D'], 7: ['H', 'R', 'F', 'T'], 5: ['J', 'R', 'D'], 8: ['G', 'M'], 2: ['D']}\n",
      "{1: ['H', 'L', 'R', 'F', 'B', 'C', 'J'], 6: ['Z', 'G', 'J', 'P', 'Q', 'D'], 9: ['J', 'R', 'Q', 'F', 'P', 'G'], 3: ['W', 'G', 'N', 'C', 'F'], 4: ['B', 'S', 'T', 'M', 'D'], 7: ['H', 'R', 'F', 'T'], 5: ['J', 'R', 'D'], 8: ['G', 'M'], 2: ['D', 'C']}\n",
      "{1: ['H', 'L', 'R', 'F', 'B', 'C', 'J'], 6: ['Z', 'G', 'J', 'P', 'Q', 'D'], 9: ['J', 'R', 'Q', 'F', 'P', 'G'], 3: ['W', 'G', 'N', 'C', 'F', 'J'], 4: ['B', 'S', 'T', 'M', 'D'], 7: ['H', 'R', 'F', 'T'], 5: ['J', 'R', 'D'], 8: ['G', 'M'], 2: ['D', 'C']}\n",
      "{1: ['H', 'L', 'R', 'F', 'B', 'C', 'J'], 6: ['Z', 'G', 'J', 'P', 'Q', 'D'], 9: ['J', 'R', 'Q', 'F', 'P', 'G'], 3: ['W', 'G', 'N', 'C', 'F', 'J'], 4: ['B', 'S', 'T', 'M', 'D', 'J'], 7: ['H', 'R', 'F', 'T'], 5: ['J', 'R', 'D'], 8: ['G', 'M'], 2: ['D', 'C']}\n",
      "{1: ['H', 'L', 'R', 'F', 'B', 'C', 'J'], 6: ['Z', 'G', 'J', 'P', 'Q', 'D'], 9: ['J', 'R', 'Q', 'F', 'P', 'G'], 3: ['W', 'G', 'N', 'C', 'F', 'J'], 4: ['B', 'S', 'T', 'M', 'D', 'J'], 7: ['H', 'R', 'F', 'T'], 5: ['J', 'R', 'D', 'C'], 8: ['G', 'M'], 2: ['D', 'C']}\n",
      "{1: ['H', 'L', 'R', 'F', 'B', 'C', 'J'], 6: ['Z', 'G', 'J', 'P', 'Q', 'D', 'L'], 9: ['J', 'R', 'Q', 'F', 'P', 'G'], 3: ['W', 'G', 'N', 'C', 'F', 'J'], 4: ['B', 'S', 'T', 'M', 'D', 'J'], 7: ['H', 'R', 'F', 'T'], 5: ['J', 'R', 'D', 'C'], 8: ['G', 'M'], 2: ['D', 'C']}\n",
      "{1: ['H', 'L', 'R', 'F', 'B', 'C', 'J'], 6: ['Z', 'G', 'J', 'P', 'Q', 'D', 'L'], 9: ['J', 'R', 'Q', 'F', 'P', 'G'], 3: ['W', 'G', 'N', 'C', 'F', 'J'], 4: ['B', 'S', 'T', 'M', 'D', 'J'], 7: ['H', 'R', 'F', 'T', 'Z'], 5: ['J', 'R', 'D', 'C'], 8: ['G', 'M'], 2: ['D', 'C']}\n",
      "{1: ['H', 'L', 'R', 'F', 'B', 'C', 'J'], 6: ['Z', 'G', 'J', 'P', 'Q', 'D', 'L'], 9: ['J', 'R', 'Q', 'F', 'P', 'G'], 3: ['W', 'G', 'N', 'C', 'F', 'J'], 4: ['B', 'S', 'T', 'M', 'D', 'J'], 7: ['H', 'R', 'F', 'T', 'Z'], 5: ['J', 'R', 'D', 'C'], 8: ['G', 'M', 'V'], 2: ['D', 'C']}\n",
      "{1: ['H', 'L', 'R', 'F', 'B', 'C', 'J'], 6: ['Z', 'G', 'J', 'P', 'Q', 'D', 'L'], 9: ['J', 'R', 'Q', 'F', 'P', 'G', 'B'], 3: ['W', 'G', 'N', 'C', 'F', 'J'], 4: ['B', 'S', 'T', 'M', 'D', 'J'], 7: ['H', 'R', 'F', 'T', 'Z'], 5: ['J', 'R', 'D', 'C'], 8: ['G', 'M', 'V'], 2: ['D', 'C']}\n",
      "{1: ['H', 'L', 'R', 'F', 'B', 'C', 'J', 'M'], 6: ['Z', 'G', 'J', 'P', 'Q', 'D', 'L'], 9: ['J', 'R', 'Q', 'F', 'P', 'G', 'B'], 3: ['W', 'G', 'N', 'C', 'F', 'J'], 4: ['B', 'S', 'T', 'M', 'D', 'J'], 7: ['H', 'R', 'F', 'T', 'Z'], 5: ['J', 'R', 'D', 'C'], 8: ['G', 'M', 'V'], 2: ['D', 'C']}\n",
      "{1: ['H', 'L', 'R', 'F', 'B', 'C', 'J', 'M'], 6: ['Z', 'G', 'J', 'P', 'Q', 'D', 'L'], 9: ['J', 'R', 'Q', 'F', 'P', 'G', 'B'], 3: ['W', 'G', 'N', 'C', 'F', 'J'], 4: ['B', 'S', 'T', 'M', 'D', 'J'], 7: ['H', 'R', 'F', 'T', 'Z'], 5: ['J', 'R', 'D', 'C'], 8: ['G', 'M', 'V'], 2: ['D', 'C', 'Z']}\n",
      "{1: ['H', 'L', 'R', 'F', 'B', 'C', 'J', 'M'], 6: ['Z', 'G', 'J', 'P', 'Q', 'D', 'L'], 9: ['J', 'R', 'Q', 'F', 'P', 'G', 'B'], 3: ['W', 'G', 'N', 'C', 'F', 'J', 'H'], 4: ['B', 'S', 'T', 'M', 'D', 'J'], 7: ['H', 'R', 'F', 'T', 'Z'], 5: ['J', 'R', 'D', 'C'], 8: ['G', 'M', 'V'], 2: ['D', 'C', 'Z']}\n",
      "{1: ['H', 'L', 'R', 'F', 'B', 'C', 'J', 'M'], 6: ['Z', 'G', 'J', 'P', 'Q', 'D', 'L'], 9: ['J', 'R', 'Q', 'F', 'P', 'G', 'B'], 3: ['W', 'G', 'N', 'C', 'F', 'J', 'H'], 4: ['B', 'S', 'T', 'M', 'D', 'J', 'P'], 7: ['H', 'R', 'F', 'T', 'Z'], 5: ['J', 'R', 'D', 'C'], 8: ['G', 'M', 'V'], 2: ['D', 'C', 'Z']}\n",
      "{1: ['H', 'L', 'R', 'F', 'B', 'C', 'J', 'M'], 6: ['Z', 'G', 'J', 'P', 'Q', 'D', 'L'], 9: ['J', 'R', 'Q', 'F', 'P', 'G', 'B'], 3: ['W', 'G', 'N', 'C', 'F', 'J', 'H'], 4: ['B', 'S', 'T', 'M', 'D', 'J', 'P'], 7: ['H', 'R', 'F', 'T', 'Z'], 5: ['J', 'R', 'D', 'C', 'N'], 8: ['G', 'M', 'V'], 2: ['D', 'C', 'Z']}\n",
      "{1: ['H', 'L', 'R', 'F', 'B', 'C', 'J', 'M'], 6: ['Z', 'G', 'J', 'P', 'Q', 'D', 'L', 'W'], 9: ['J', 'R', 'Q', 'F', 'P', 'G', 'B'], 3: ['W', 'G', 'N', 'C', 'F', 'J', 'H'], 4: ['B', 'S', 'T', 'M', 'D', 'J', 'P'], 7: ['H', 'R', 'F', 'T', 'Z'], 5: ['J', 'R', 'D', 'C', 'N'], 8: ['G', 'M', 'V'], 2: ['D', 'C', 'Z']}\n",
      "{1: ['H', 'L', 'R', 'F', 'B', 'C', 'J', 'M'], 6: ['Z', 'G', 'J', 'P', 'Q', 'D', 'L', 'W'], 9: ['J', 'R', 'Q', 'F', 'P', 'G', 'B'], 3: ['W', 'G', 'N', 'C', 'F', 'J', 'H'], 4: ['B', 'S', 'T', 'M', 'D', 'J', 'P'], 7: ['H', 'R', 'F', 'T', 'Z', 'P'], 5: ['J', 'R', 'D', 'C', 'N'], 8: ['G', 'M', 'V'], 2: ['D', 'C', 'Z']}\n",
      "{1: ['H', 'L', 'R', 'F', 'B', 'C', 'J', 'M'], 6: ['Z', 'G', 'J', 'P', 'Q', 'D', 'L', 'W'], 9: ['J', 'R', 'Q', 'F', 'P', 'G', 'B'], 3: ['W', 'G', 'N', 'C', 'F', 'J', 'H'], 4: ['B', 'S', 'T', 'M', 'D', 'J', 'P'], 7: ['H', 'R', 'F', 'T', 'Z', 'P'], 5: ['J', 'R', 'D', 'C', 'N'], 8: ['G', 'M', 'V', 'L'], 2: ['D', 'C', 'Z']}\n",
      "{1: ['H', 'L', 'R', 'F', 'B', 'C', 'J', 'M'], 6: ['Z', 'G', 'J', 'P', 'Q', 'D', 'L', 'W'], 9: ['J', 'R', 'Q', 'F', 'P', 'G', 'B', 'C'], 3: ['W', 'G', 'N', 'C', 'F', 'J', 'H'], 4: ['B', 'S', 'T', 'M', 'D', 'J', 'P'], 7: ['H', 'R', 'F', 'T', 'Z', 'P'], 5: ['J', 'R', 'D', 'C', 'N'], 8: ['G', 'M', 'V', 'L'], 2: ['D', 'C', 'Z']}\n",
      "Top crates for the 9001: RMHFJNVFP\n"
     ]
    }
   ],
   "source": [
    "final_stack2 = parser2(day5_list)\n",
    "print(f'Top crates for the 9001: '+ ''.join(final_stack2[x][0] for x in sorted(final_stack2.keys())))"
   ]
  },
  {
   "cell_type": "code",
   "execution_count": 55,
   "id": "8be5dfee-c058-4c49-9695-4d229e9185cd",
   "metadata": {},
   "outputs": [
    {
     "data": {
      "text/plain": [
       "{1: [], 6: [], 9: [], 3: [], 4: [], 7: [], 5: [], 8: [], 2: []}"
      ]
     },
     "execution_count": 55,
     "metadata": {},
     "output_type": "execute_result"
    }
   ],
   "source": [
    "final_stack2"
   ]
  },
  {
   "cell_type": "code",
   "execution_count": null,
   "id": "8a0bcacd-5523-4581-9e6b-2a0b2a448bd0",
   "metadata": {},
   "outputs": [],
   "source": []
  }
 ],
 "metadata": {
  "kernelspec": {
   "display_name": "Python 3 (ipykernel)",
   "language": "python",
   "name": "python3"
  },
  "language_info": {
   "codemirror_mode": {
    "name": "ipython",
    "version": 3
   },
   "file_extension": ".py",
   "mimetype": "text/x-python",
   "name": "python",
   "nbconvert_exporter": "python",
   "pygments_lexer": "ipython3",
   "version": "3.9.7"
  }
 },
 "nbformat": 4,
 "nbformat_minor": 5
}
