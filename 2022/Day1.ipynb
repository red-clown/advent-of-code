{
 "cells": [
  {
   "cell_type": "markdown",
   "id": "7fe50d0c-0e17-4eed-8bdb-5b560ea2f248",
   "metadata": {},
   "source": [
    "# --- Day 1: Calorie Counting ---"
   ]
  },
  {
   "cell_type": "markdown",
   "id": "67888d66-180d-48bc-b548-cbb1fe56f9cd",
   "metadata": {},
   "source": [
    "## Statement\n",
    "The jungle must be too overgrown and difficult to navigate in vehicles or access from the air; the Elves' expedition traditionally goes on foot. As your boats approach land, the Elves begin taking inventory of their supplies. One important consideration is food - in particular, the number of Calories each Elf is carrying (your puzzle input).\n",
    "\n",
    "The Elves take turns writing down the number of Calories contained by the various meals, snacks, rations, etc. that they've brought with them, one item per line. Each Elf separates their own inventory from the previous Elf's inventory (if any) by a blank line.\n",
    "\n",
    "For example, suppose the Elves finish writing their items' Calories and end up with the following list:\n",
    "## Example\n",
    "```\n",
    "1000\n",
    "2000\n",
    "3000\n",
    "\n",
    "4000\n",
    "\n",
    "5000\n",
    "6000\n",
    "\n",
    "7000\n",
    "8000\n",
    "9000\n",
    "\n",
    "10000\n",
    "```\n",
    "This list represents the Calories of the food carried by five Elves:\n",
    ">\n",
    "    The first Elf is carrying food with 1000, 2000, and 3000 Calories, a total of 6000 Calories.\n",
    "    The second Elf is carrying one food item with 4000 Calories.\n",
    "    The third Elf is carrying food with 5000 and 6000 Calories, a total of 11000 Calories.\n",
    "    The fourth Elf is carrying food with 7000, 8000, and 9000 Calories, a total of 24000 Calories.\n",
    "    The fifth Elf is carrying one food item with 10000 Calories.\n",
    "\n",
    "## Question\n",
    "In case the Elves get hungry and need extra snacks, they need to know which Elf to ask: they'd like to know how many Calories are being carried by the Elf carrying the most Calories. In the example above, this is 24000 (carried by the fourth Elf).\n",
    "\n",
    "Find the Elf carrying the most Calories. How many total Calories is that Elf carrying?"
   ]
  },
  {
   "cell_type": "code",
   "execution_count": 2,
   "id": "6680380d-bd8d-44d1-ab40-40580d4673ef",
   "metadata": {},
   "outputs": [],
   "source": [
    "exemple_list = '''1000\n",
    "2000\n",
    "3000\n",
    "\n",
    "4000\n",
    "\n",
    "5000\n",
    "6000\n",
    "\n",
    "7000\n",
    "8000\n",
    "9000\n",
    "\n",
    "10000\n",
    "'''\n",
    "\n"
   ]
  },
  {
   "cell_type": "code",
   "execution_count": 24,
   "id": "ba6be043-d041-4f69-b321-52120bc19612",
   "metadata": {},
   "outputs": [],
   "source": [
    "exemple_list = exemple_list.split('\\n')"
   ]
  },
  {
   "cell_type": "code",
   "execution_count": 11,
   "id": "1998c233-1b83-417b-a8f9-f426c8f8d67d",
   "metadata": {},
   "outputs": [
    {
     "name": "stdout",
     "output_type": "stream",
     "text": [
      "Max carried : 24000\n"
     ]
    }
   ],
   "source": [
    "def max_calorie (input_list):\n",
    "    calorie_sum = 0\n",
    "    max_calorie = 0\n",
    "    for i in input_list:\n",
    "        #print (f'New meal cal: {i}, length {len(i)}')\n",
    "        if len(i) > 0:\n",
    "            calorie_sum += int(i)\n",
    "            max_calorie = max(max_calorie, calorie_sum)\n",
    "        else: \n",
    "            calorie_sum = 0\n",
    "    return(max_calorie)\n",
    "\n",
    "print(f'Max carried : {max_calorie(exemple_list)}')\n",
    "        "
   ]
  },
  {
   "cell_type": "code",
   "execution_count": 16,
   "id": "5620bdb7-5302-4344-8f3b-0a6c78fc67ea",
   "metadata": {},
   "outputs": [
    {
     "name": "stdout",
     "output_type": "stream",
     "text": [
      "Max carried : 69528\n"
     ]
    }
   ],
   "source": [
    "with open('input_day1.txt') as f:\n",
    "    day1_list = [sub.replace(\"\\n\", \"\") for sub in f.readlines()]\n",
    "\n",
    "#part1_list = lines.split('\\n')\n",
    "print(f'Max carried : {max_calorie(day1_list)}')"
   ]
  },
  {
   "cell_type": "code",
   "execution_count": 37,
   "id": "c3fa1c8c-10dc-4519-967a-cbdd7c137df8",
   "metadata": {},
   "outputs": [
    {
     "name": "stdout",
     "output_type": "stream",
     "text": [
      "top3 carried : 45000\n"
     ]
    }
   ],
   "source": [
    "def top3_calorie (input_list):\n",
    "    calorie_sum = 0\n",
    "    max_calorie = [0, 0, 0]\n",
    "    for i in input_list:\n",
    "        #print (f'New meal cal: {i}, length {len(i)}')\n",
    "        if len(i) > 0:\n",
    "            calorie_sum += int(i)\n",
    "        else:\n",
    "            if calorie_sum > min(max_calorie):\n",
    "                max_calorie.append(calorie_sum)\n",
    "                max_calorie.sort()\n",
    "                #print (f'top =  {max_calorie}')\n",
    "                max_calorie = max_calorie[1:4]\n",
    "                #print (f'top3 =  {max_calorie}')\n",
    "            calorie_sum = 0\n",
    "    return(sum(max_calorie))\n",
    "\n",
    "print(f'top3 carried : {top3_calorie(exemple_list)}')\n",
    "        "
   ]
  },
  {
   "cell_type": "code",
   "execution_count": 38,
   "id": "0a1cd56c-4e5e-47d0-9915-2ab8cb9e7059",
   "metadata": {},
   "outputs": [
    {
     "name": "stdout",
     "output_type": "stream",
     "text": [
      "top3 carried : 206152\n"
     ]
    }
   ],
   "source": [
    "day1_list.append('')\n",
    "print(f'top3 carried : {top3_calorie(day1_list)}')"
   ]
  },
  {
   "cell_type": "code",
   "execution_count": 22,
   "id": "bac2fc93-e538-4dd6-b96d-50d7c298136d",
   "metadata": {},
   "outputs": [
    {
     "data": {
      "text/plain": [
       "int"
      ]
     },
     "execution_count": 22,
     "metadata": {},
     "output_type": "execute_result"
    }
   ],
   "source": [
    "type(max([0,0,0]))"
   ]
  },
  {
   "cell_type": "code",
   "execution_count": null,
   "id": "8be5dfee-c058-4c49-9695-4d229e9185cd",
   "metadata": {},
   "outputs": [],
   "source": []
  }
 ],
 "metadata": {
  "kernelspec": {
   "display_name": "Python 3 (ipykernel)",
   "language": "python",
   "name": "python3"
  },
  "language_info": {
   "codemirror_mode": {
    "name": "ipython",
    "version": 3
   },
   "file_extension": ".py",
   "mimetype": "text/x-python",
   "name": "python",
   "nbconvert_exporter": "python",
   "pygments_lexer": "ipython3",
   "version": "3.9.7"
  }
 },
 "nbformat": 4,
 "nbformat_minor": 5
}
