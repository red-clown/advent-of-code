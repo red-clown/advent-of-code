{
 "cells": [
  {
   "cell_type": "markdown",
   "id": "7fe50d0c-0e17-4eed-8bdb-5b560ea2f248",
   "metadata": {},
   "source": [
    "# --- Day 3: Rucksack Reorganization ---"
   ]
  },
  {
   "cell_type": "markdown",
   "id": "67888d66-180d-48bc-b548-cbb1fe56f9cd",
   "metadata": {},
   "source": [
    "## Part 1\n",
    "One Elf has the important job of loading all of the rucksacks with supplies for the jungle journey. Unfortunately, that Elf didn't quite follow the packing instructions, and so a few items now need to be rearranged.\n",
    "\n",
    "Each rucksack has two large compartments. All items of a given type are meant to go into exactly one of the two compartments. The Elf that did the packing failed to follow this rule for exactly one item type per rucksack.\n",
    "\n",
    "The Elves have made a list of all of the items currently in each rucksack (your puzzle input), but they need your help finding the errors. Every item type is identified by a single lowercase or uppercase letter (that is, a and A refer to different types of items).\n",
    "\n",
    "The list of items for each rucksack is given as characters all on a single line. A given rucksack always has the same number of items in each of its two compartments, so the first half of the characters represent items in the first compartment, while the second half of the characters represent items in the second compartment.\n",
    "## Example\n",
    "For example, suppose you have the following list of contents from six rucksacks:\n",
    "```\n",
    "vJrwpWtwJgWrhcsFMMfFFhFp\n",
    "jqHRNqRjqzjGDLGLrsFMfFZSrLrFZsSL\n",
    "PmmdzqPrVvPwwTWBwg\n",
    "wMqvLMZHhHMvwLHjbvcjnnSBnvTQFn\n",
    "ttgJtRGJQctTZtZT\n",
    "CrZsJsPPZsGzwwsLwLmpwMDw\n",
    "```\n",
    "\n",
    "  -  The first rucksack contains the items vJrwpWtwJgWrhcsFMMfFFhFp, which means its first compartment contains the items vJrwpWtwJgWr, while the second compartment contains the items hcsFMMfFFhFp. The only item type that appears in both compartments is lowercase p.\n",
    "  -  The second rucksack's compartments contain jqHRNqRjqzjGDLGL and rsFMfFZSrLrFZsSL. The only item type that appears in both compartments is uppercase L.\n",
    "  -  The third rucksack's compartments contain PmmdzqPrV and vPwwTWBwg; the only common item type is uppercase P.\n",
    "  -  The fourth rucksack's compartments only share item type v.\n",
    "  -  The fifth rucksack's compartments only share item type t.\n",
    "  -  The sixth rucksack's compartments only share item type s.\n",
    "\n",
    "To help prioritize item rearrangement, every item type can be converted to a priority:\n",
    "\n",
    "    Lowercase item types a through z have priorities 1 through 26.\n",
    "    Uppercase item types A through Z have priorities 27 through 52.\n",
    "\n",
    "In the above example, the priority of the item type that appears in both compartments of each rucksack is 16 (p), 38 (L), 42 (P), 22 (v), 20 (t), and 19 (s); the sum of these is 157.\n",
    "\n",
    "\n",
    "## Question\n",
    "Find the item type that appears in both compartments of each rucksack. What is the sum of the priorities of those item types?"
   ]
  },
  {
   "cell_type": "code",
   "execution_count": 5,
   "id": "6680380d-bd8d-44d1-ab40-40580d4673ef",
   "metadata": {},
   "outputs": [],
   "source": [
    "exemple_list = '''vJrwpWtwJgWrhcsFMMfFFhFp\n",
    "jqHRNqRjqzjGDLGLrsFMfFZSrLrFZsSL\n",
    "PmmdzqPrVvPwwTWBwg\n",
    "wMqvLMZHhHMvwLHjbvcjnnSBnvTQFn\n",
    "ttgJtRGJQctTZtZT\n",
    "CrZsJsPPZsGzwwsLwLmpwMDw\n",
    "'''"
   ]
  },
  {
   "cell_type": "code",
   "execution_count": 6,
   "id": "ba6be043-d041-4f69-b321-52120bc19612",
   "metadata": {},
   "outputs": [],
   "source": [
    "exemple_list = exemple_list.split('\\n')"
   ]
  },
  {
   "cell_type": "code",
   "execution_count": 16,
   "id": "1998c233-1b83-417b-a8f9-f426c8f8d67d",
   "metadata": {},
   "outputs": [
    {
     "data": {
      "text/plain": [
       "1"
      ]
     },
     "execution_count": 16,
     "metadata": {},
     "output_type": "execute_result"
    }
   ],
   "source": [
    "ord('a') - 96"
   ]
  },
  {
   "cell_type": "code",
   "execution_count": 17,
   "id": "98b3ba0e-c226-4549-bab1-f7cb6c533101",
   "metadata": {},
   "outputs": [
    {
     "data": {
      "text/plain": [
       "27"
      ]
     },
     "execution_count": 17,
     "metadata": {},
     "output_type": "execute_result"
    }
   ],
   "source": [
    "ord('A') - 65 + 27"
   ]
  },
  {
   "cell_type": "code",
   "execution_count": 15,
   "id": "d209cb43-d2c5-4a31-9f5e-b0e4a7c7496c",
   "metadata": {},
   "outputs": [
    {
     "data": {
      "text/plain": [
       "True"
      ]
     },
     "execution_count": 15,
     "metadata": {},
     "output_type": "execute_result"
    }
   ],
   "source": [
    "'A'.isupper()"
   ]
  },
  {
   "cell_type": "code",
   "execution_count": 19,
   "id": "a453c151-95d1-4d8e-9134-40e8340cbf9c",
   "metadata": {},
   "outputs": [
    {
     "name": "stdout",
     "output_type": "stream",
     "text": [
      "Final score: 157\n"
     ]
    }
   ],
   "source": [
    "def score(letter):\n",
    "    if letter.isupper():\n",
    "        score = ord(letter) - 65 + 27\n",
    "    elif letter.islower():\n",
    "        score = ord(letter) - 96\n",
    "    else:\n",
    "        score = 0\n",
    "    return (score)\n",
    "\n",
    "def bag_checker(input_list):\n",
    "    total_score = 0\n",
    "    for bag in input_list:\n",
    "        l = len(bag)//2\n",
    "        pocket1 = bag[:l]\n",
    "        pocket2 = bag[l:]\n",
    "        #print(f'I have two compartments : {pocket1} and {pocket2}.')\n",
    "        common = []\n",
    "        for i in pocket1:\n",
    "            if i in pocket2:\n",
    "                common.append(i)\n",
    "        common_nodup = list(dict.fromkeys(common))\n",
    "        #print(f'These letters are in common : {common_nodup}')\n",
    "        for x in common_nodup:\n",
    "            total_score += score(x)\n",
    "    return(total_score)\n",
    "        \n",
    "\n",
    "print(f'Final score: {bag_checker(exemple_list)}')"
   ]
  },
  {
   "cell_type": "code",
   "execution_count": 21,
   "id": "5620bdb7-5302-4344-8f3b-0a6c78fc67ea",
   "metadata": {},
   "outputs": [
    {
     "name": "stdout",
     "output_type": "stream",
     "text": [
      "Final score: 7811\n"
     ]
    }
   ],
   "source": [
    "with open('input_day3.txt') as f:\n",
    "    day3_list = [sub.replace(\"\\n\", \"\") for sub in f.readlines()]\n",
    "\n",
    "#part1_list = lines.split('\\n')\n",
    "print(f'Final score: {bag_checker(day3_list)}')"
   ]
  },
  {
   "cell_type": "markdown",
   "id": "431ca112-5d54-4b6e-995b-aa7354b47afe",
   "metadata": {},
   "source": [
    "## --- Part Two ---\n",
    "\n",
    "As you finish identifying the misplaced items, the Elves come to you with another issue.\n",
    "\n",
    "For safety, the Elves are divided into groups of three. Every Elf carries a badge that identifies their group. For efficiency, within each group of three Elves, the badge is the only item type carried by all three Elves. That is, if a group's badge is item type B, then all three Elves will have item type B somewhere in their rucksack, and at most two of the Elves will be carrying any other item type.\n",
    "\n",
    "The problem is that someone forgot to put this year's updated authenticity sticker on the badges. All of the badges need to be pulled out of the rucksacks so the new authenticity stickers can be attached.\n",
    "\n",
    "Additionally, nobody wrote down which item type corresponds to each group's badges. The only way to tell which item type is the right one is by finding the one item type that is common between all three Elves in each group.\n",
    "\n",
    "Every set of three lines in your list corresponds to a single group, but each group can have a different badge item type. So, in the above example, the first group's rucksacks are the first three lines:\n",
    "\n",
    "vJrwpWtwJgWrhcsFMMfFFhFp\n",
    "jqHRNqRjqzjGDLGLrsFMfFZSrLrFZsSL\n",
    "PmmdzqPrVvPwwTWBwg\n",
    "\n",
    "And the second group's rucksacks are the next three lines:\n",
    "\n",
    "wMqvLMZHhHMvwLHjbvcjnnSBnvTQFn\n",
    "ttgJtRGJQctTZtZT\n",
    "CrZsJsPPZsGzwwsLwLmpwMDw\n",
    "\n",
    "In the first group, the only item type that appears in all three rucksacks is lowercase r; this must be their badges. In the second group, their badge item type must be Z.\n",
    "\n",
    "Priorities for these items must still be found to organize the sticker attachment efforts: here, they are 18 (r) for the first group and 52 (Z) for the second group. The sum of these is 70.\n",
    "\n",
    "Find the item type that corresponds to the badges of each three-Elf group. What is the sum of the priorities of those item types?\n"
   ]
  },
  {
   "cell_type": "code",
   "execution_count": 28,
   "id": "c3fa1c8c-10dc-4519-967a-cbdd7c137df8",
   "metadata": {},
   "outputs": [
    {
     "data": {
      "text/plain": [
       "70"
      ]
     },
     "execution_count": 28,
     "metadata": {},
     "output_type": "execute_result"
    }
   ],
   "source": [
    "def badge_finder(input_list):\n",
    "    total_score = 0\n",
    "\n",
    "    for x in range(len(input_list)//3):\n",
    "        #group_comp = []\n",
    "        try:\n",
    "            #for y in range(3):\n",
    "            #    group_comp.append(input_list[3*x+y])\n",
    "            group_comp = [input_list[3*x+y] for y in range(3)]\n",
    "        except:\n",
    "            break\n",
    "        #print(f' My group composes of {group_comp}.')\n",
    "        #badge = []\n",
    "        #for item in group_comp[0]:\n",
    "        #    if item in group_comp[1] and item in group_comp[2]:\n",
    "        #        badge.append(item\n",
    "        badge = [item for item in group_comp[0] if item in group_comp[1] and item in group_comp[2]]\n",
    "        badge = list(dict.fromkeys(badge))\n",
    "        #print(f'Our badge is {badge}.')\n",
    "        for b in badge:\n",
    "            total_score += score(b)\n",
    "    return total_score\n",
    "\n",
    "badge_finder(exemple_list)"
   ]
  },
  {
   "cell_type": "code",
   "execution_count": 29,
   "id": "0a1cd56c-4e5e-47d0-9915-2ab8cb9e7059",
   "metadata": {},
   "outputs": [
    {
     "data": {
      "text/plain": [
       "2639"
      ]
     },
     "execution_count": 29,
     "metadata": {},
     "output_type": "execute_result"
    }
   ],
   "source": [
    "badge_finder(day3_list)"
   ]
  },
  {
   "cell_type": "code",
   "execution_count": 60,
   "id": "bac2fc93-e538-4dd6-b96d-50d7c298136d",
   "metadata": {},
   "outputs": [],
   "source": [
    "-- 2639 ok --"
   ]
  },
  {
   "cell_type": "code",
   "execution_count": null,
   "id": "8be5dfee-c058-4c49-9695-4d229e9185cd",
   "metadata": {},
   "outputs": [],
   "source": []
  }
 ],
 "metadata": {
  "kernelspec": {
   "display_name": "Python 3",
   "language": "python",
   "name": "python3"
  },
  "language_info": {
   "codemirror_mode": {
    "name": "ipython",
    "version": 3
   },
   "file_extension": ".py",
   "mimetype": "text/x-python",
   "name": "python",
   "nbconvert_exporter": "python",
   "pygments_lexer": "ipython3",
   "version": "3.8.8"
  }
 },
 "nbformat": 4,
 "nbformat_minor": 5
}
